{
  "cells": [
    {
      "outputs": [],
      "cell_type": "code",
      "source": [
        "using DifferentialEquations\n#using OrdinaryDiffEq\n\n\"\"\"\nDecribes the system.\n\nnoH is used to solve with H=0 to check for the solution precision\n\"\"\"\nstruct parameters\n    λ\n    ξ\n    β\n    g\n    noH\nend\nBase.hash(p::parameters, h::UInt) = hash(p.λ,hash(p.ξ,hash(p.β,hash(p.g,h))))\n\nβmin(λ, normalization=2e9) = normalization/(1+4*π/λ)\nβmax(λ, normalization=2e9) = normalization/2\ngenpars(λ, β, noH=false, normalization=2e9) = parameters(λ, sqrt(λ*(normalization-β)), β, sqrt(0.025*4*π), noH)"
      ],
      "metadata": {},
      "execution_count": null
    },
    {
      "cell_type": "markdown",
      "source": [
        "## System action and derivatives\n#'\nWe start form the action\n$$\n  S = \\int d^4x (K-V)\n$$\n$$\n  K = \\frac{(\\partial H)^2}{2}+\\frac{(\\partial X)^2}{2}\\cosh^2(\\frac{H}{\\sqrt{6}})\n$$\n$$\n  V = \\frac{36}{4}\\left( \\lambda \\sinh^4(\\frac{h}{\\sqrt{6}}) +\n                  \\frac{\\beta}{36} \\left(1-\\exp(-\\sqrt{2/3} x) \\cosh^2(h/\\sqrt{6}) - 6\\xi\\sinh^2(h/\\sqrt{6})\\right)^2\n                  \\right)\n$$\nHubble is calculated onthe background as\n$$\n  H^2 = \\frac{K+V}{3}\n$$\n#'\n**Note** Kinetik mixing is present in the equations of motions, but not in the mode expansion.  That is irrelevant because of the small value of background during the generation regime."
      ],
      "metadata": {}
    },
    {
      "outputs": [],
      "cell_type": "code",
      "source": [
        "module sym\n    using SymEngine\n    @vars dh dx h x dδh dδx δh δx λ ξ β\n# System definition\n    V = 36/4*( λ*sinh(h/sqrt(6))^4 +\n                  1/36/β*(1-exp(-sqrt(2/3)*x)*cosh(h/sqrt(6))^2 - 6*ξ*sinh(h/sqrt(6))^2)^2 )\n    K = dh^2/2+dx^2/2*cosh(h/sqrt(6))^2\n    L = K-V\n# ### Assuming diagonal quadratic kinetic term\n    dLdh = diff(L,h)\n    dLdx = diff(L,x)\n    dLddh = diff(L,dh)\n    dLddx = diff(L,dx)\n    eqnh = (dLdh-diff(dLddh,h)*dh-diff(dLddh,x)*dx)/diff(dLddh,dh)\n    eqnx = (dLdx-diff(dLddx,h)*dh-diff(dLddx,x)*dx)/diff(dLddx,dx)\n    H = sqrt((K+V)/3)\n    Kddhddh = diff(K,dh,dh)\n    Kddxddx = diff(K,dx,dx)\n    Kddxdh = diff(K,dx,h)\n# Much faster? May suffer from \"world time problem\" - irrelevant!\n    lambdify_fast(ex, vars=free_symbols(ex)) = eval(Expr(:function,\n                             Expr(:call, gensym(), map(Symbol,vars)...),\n                                  convert(Expr, ex)))\n    feqnh = lambdify_fast(eqnh,[dh,dx,h,x,λ,ξ,β])\n    feqnx = lambdify_fast(eqnx,[dh,dx,h,x,λ,ξ,β])\n    feqnδhx = lambdify_fast(diff(eqnh,x),[dh,dx,h,x,λ,ξ,β])\n    feqnδhh = lambdify_fast(diff(eqnh,h),[dh,dx,h,x,λ,ξ,β])\n    feqnδxx = lambdify_fast(diff(eqnx,x),[dh,dx,h,x,λ,ξ,β])\n    feqnδxh = lambdify_fast(diff(eqnx,h),[dh,dx,h,x,λ,ξ,β])\n    fH = lambdify_fast(H,[dh,dx,h,x,λ,ξ,β])\n    fKh = lambdify_fast(subs(K,dx,0),[dh,dx,h,x,λ,ξ,β])\n    fKx = lambdify_fast(subs(K,dh,0),[dh,dx,h,x,λ,ξ,β])\n    fV = lambdify_fast(V,[h,x,λ,ξ,β])\n    fVx = lambdify_fast(diff(V,x),[h,x,λ,ξ,β])\n    fVh = lambdify_fast(diff(V,h),[h,x,λ,ξ,β])\n    fVxx = lambdify_fast(diff(V,x,x),[h,x,λ,ξ,β])\n    fVhx = lambdify_fast(diff(V,h,x),[h,x,λ,ξ,β])\n    fVhh = lambdify_fast(diff(V,h,h),[h,x,λ,ξ,β])\n    fVxxx = lambdify_fast(diff(V,x,x,x),[h,x,λ,ξ,β])\n    fVhxx = lambdify_fast(diff(V,x,x,h),[h,x,λ,ξ,β])\n    fVhhx = lambdify_fast(diff(V,x,h,h),[h,x,λ,ξ,β])\n    fVhhh = lambdify_fast(diff(V,h,h,h),[h,x,λ,ξ,β])\nend;\n\n\nfV(h,x,p) = sym.fV(h,x,p.λ,p.ξ,p.β);\n\nFieldType=Array{Float64,1}\nfV(u::FieldType, p) = sym.fV(u[3], u[4], p.λ,p.ξ,p.β);\nfKh(u::FieldType, p) = sym.fKh(u[1], u[2], u[3], u[4], p.λ,p.ξ,p.β);\nfKx(u::FieldType, p) = sym.fKx(u[1], u[2], u[3], u[4], p.λ,p.ξ,p.β);\nfH(u::FieldType, p) = sym.fH(u[1], u[2], u[3], u[4], p.λ,p.ξ,p.β);\nfV(sol::ODESolution, t) = fV(sol(t), sol.prob.p)\nfKh(sol::ODESolution, t) = fKh(sol(t), sol.prob.p)\nfKx(sol::ODESolution, t) = fKx(sol(t), sol.prob.p)\nfH(sol::ODESolution, t) = fH(sol(t), sol.prob.p);\n\nhminAlt(x,p) = sqrt(6)*asinh(sqrt(\n        (1-exp(-sqrt(2.0/3)*x)) / (6*(p.ξ^2+p.λ*p.β)/p.ξ+exp(-sqrt(2.0/3)*x)) ));\n\nfunction potplot(p; xlim=-0.5:0.05:1, hlim=nothing, vmax=nothing, camera=(60,70))\n    hmax = hminAlt(abs(xlim[1]),p)*1.5\n    if hlim == nothing\n        hlim = LinRange(-hmax,hmax,31)\n    end\n    if vmax == nothing\n        vmax = sqrt(fV(0.0,xlim[end],p)*fV(hlim[1],xlim[end],p))\n    end\n    plot(hlim, xlim, (x,y)->(v=fV(x,y,p); v>vmax ? vmax : v),\n        st=[:surface], zlim=(0,vmax),\n        xlabel=\"\\$H\\$\", ylabel=\"\\$\\\\Phi\\$\",\n        color=:blues_r,\n        camera=camera)\nend"
      ],
      "metadata": {},
      "execution_count": null
    },
    {
      "cell_type": "markdown",
      "source": [
        "Utility function to acces the background"
      ],
      "metadata": {}
    },
    {
      "outputs": [],
      "cell_type": "code",
      "source": [
        "dH0bg(bgsol,t) = bgsol(t,idxs=1)\ndX0bg(bgsol,t) = bgsol(t,idxs=2)\nH0bg(bgsol,t) = bgsol(t,idxs=3)\nX0bg(bgsol,t) = bgsol(t,idxs=4)\nabg(bgsol,t) = exp(bgsol(t,idxs=5))\n\n\"\"\"\nCalculates the pressure for the background solution\n\"\"\"\npbg(u::FieldType, p) = fKh(u, p)+fKx(u, p)-sym.fV(u, p)\npbg(bgsol::ODESolution, t) = pbg(bgsol(t), bgsol.prob.p)\n\n\n\"\"\"\nBackground equations\n\"\"\"\nfunction bgeqns(du,u,p,t)\n    dh,dx,h,x,la = u\n    if p.noH\n        H = 0\n    else\n        H = sym.fH(dh,dx,h,x,p.λ,p.ξ,p.β)\n    end\n    du[1] = -3*H*dh + sym.feqnh(dh,dx,h,x,p.λ,p.ξ,p.β)\n    du[2] = -3*H*dx + sym.feqnx(dh,dx,h,x,p.λ,p.ξ,p.β)\n    du[3] = dh\n    du[4] = dx\n    du[5] = H\n    nothing\nend\n\n\nfunction solve_background(p0, tspan=(0.0, 2e6); X0=sqrt(6), N0=0.0, alg=AB5(), dt=1.0)\n    fieldu0 = [0.0, 0.0, hminAlt(X0,p0), X0, N0]\n    bgprob = ODEProblem(bgeqns, fieldu0, tspan, p0)\n    # # Brute forcing another integrator!\n    # using Sundials\n    # alg=CVODE_BDF()\n    # @time bgsol=solve(bgprob, alg, reltol=1e-32,abstol=1e-14);\n    solve(bgprob, alg, dt=dt, maxiters=trunc(Int,(tspan[end]-tspan[1])/dt)+1)\nend\n\n\"\"\"\nSolver with generic algorithm and precision!\n\"\"\"\nfunction solve_background(p0, tspan=(0.0, 2e6); X0=sqrt(6), H0=hminAlt(X0,p0), N0=0.0, alg=AB5(), dt=1.0, reltol=1e-32, abstol=1e-14)\n    fieldu0 = [0.0, 0.0, H0, X0, N0]\n    bgprob = ODEProblem(bgeqns, fieldu0, tspan, p0)\n    solve(bgprob, alg, dt=dt, maxiters=trunc(Int,(tspan[end]-tspan[1])/dt)+1, reltol=reltol, abstol=abstol)\nend\n\n\"\"\"\nThis function checks the quality of the background solution.\nNote, that the period does not correspond to the normal solution,\nas far as the amplitude is larger without the hubble.\n\"\"\"\nfunction checkBgsolQuality(bgsol; step = 10, dt=nothing, reltol=nothing,abstol=nothing)\n    p = bgsol.prob.p\n    testp = parameters(p.λ, p.ξ, p.β, p.g, true)\n    prob = ODEProblem(bgsol.prob.f.f, bgsol.prob.u0, bgsol.prob.tspan, testp)\n    tspan = bgsol.prob.tspan\n    if dt == nothing && reltol==nothing\n        sol = solve(prob, bgsol.alg, maxiters=trunc(Int,(tspan[end]-tspan[1])/dt)+1)\n    elseif dt==nothing\n        sol = solve(prob, bgsol.alg, abstol=abstol, reltol=reltol, maxiters=trunc(Int,(tspan[end]-tspan[1])/dt)+1)\n    elseif reltol==nothing\n        sol = solve(prob, bgsol.alg, dt=dt, maxiters=trunc(Int,(tspan[end]-tspan[1])/dt)+1)\n    end\n    i = 1:step:length(sol.t)\n    scale = 3*fH(sol.u[1],p0)^2\n    plot(sol.t[i], [3*fH(u,p0)^2/scale-1 for u in sol.u[i]],\n         title=\"Test of the energy conservation for the ODE solver with H=0\",\n         xlabel=\"t\", ylabel=\"\\$(E-E_{tot})/E\\$\")\n    # plot()\n    # plotenergies(sol)\nend\n\n## May want to switch to the interpolator\n\"Find the first zero crossing of X for the background solution\"\nt0ind(bgsol)=findfirst(u->u[4]<0, bgsol.u)\nt0(bgsol)=bgsol.t[findfirst(u->u[4]<0, bgsol.u)]\nt1ind(bgsol)=findnext(u->u[4]>0, bgsol.u, findfirst(u->u[4]<0,bgsol.u))\nt1(bgsol)=bgsol.t[findnext(u->u[4]>0, bgsol.u, findfirst(u->u[4]<0,bgsol.u))]\nt2(bgsol)=bgsol.t[findnext(u->u[4]<0, bgsol.u, findnext(u->u[4]>0, bgsol.u, findfirst(u->u[4]<0,bgsol.u)))]\n\nfunction plotenergies!(sol, lab=\"\"; step=10, plotv=false)\n    p0 = sol.prob.p\n    i=1:step:length(sol.t)\n    scale = 1 # 3*fH(sol.u[1],p0)^2\n    plot!(sol.t[i],[3*fH(u,p0)^2/scale for u in sol.u[i]],\n                    xlabel=\"\\$t\\$\",\n                    label=\"\\$3H^2\\$\"*lab, lw=1)\n    if plotv\n        Plots.plot!(sol.t[i],[fV(u,p0)/scale for u in sol.u[i]], ls=:dash, label=\"\\$V\\$\"*lab, lw=1)\n    end\n    plot!(sol.t[i],[fKh(u,p0)/scale for u in sol.u[i]], ls=:dot, label=\"\\$K_h\\$\"*lab, lw=1)\n    plot!(sol.t[i],[fKx(u,p0)/scale for u in sol.u[i]], ls=:dashdot, label=\"\\$K_x\\$\"*lab, lw=1)\n    vline!([t0(sol),t1(sol)], label=\"Starobinsky peak\")\nend"
      ],
      "metadata": {},
      "execution_count": null
    },
    {
      "cell_type": "markdown",
      "source": [
        "## Masses\n#'\nDiagonalization is achieved by\n$$\n  \\left(\\begin{array}{c} \\phi_L \\\\ \\phi_H \\end{array}\\right)=\n  \\left(\\begin{array}{cc} \\cos\\theta & \\sin\\theta \\\\\n  -\\sin\\theta & \\cos\\theta \\end{array}\\right)\n    \\left(\\begin{array}{c} \\delta X \\\\ \\delta H \\end{array}\\right)\n$$\nwith\n$$\n  \\tan2\\theta = \\frac{2V_{HX}}{V_{XX}-(V_{HH}-\\dot{X}^2/6)}\n$$\n#'\n_Note_ The expressions may be wrong in tachyonic region.  At least, the masses are \"exchanged\". I am not sure for the mixing angle.  However, as far as this is interpretation only, I would not care for now. It _may_ be important if I would like to get the same creation expresion by replacing the two mode system by just one mode.\n#'\nFor now the noncanonical kinetic term is neglect in the mixing angle calculations. Irrlevant anyway."
      ],
      "metadata": {}
    },
    {
      "outputs": [],
      "cell_type": "code",
      "source": [
        "function tan2theta(u::FieldType, p)\n    dh, dx, h, x = u\n    Vhh = sym.fVhh(h,x,p.λ,p.ξ,p.β)\n    Vxx = sym.fVxx(h,x,p.λ,p.ξ,p.β)\n    Vhx = sym.fVhx(h,x,p.λ,p.ξ,p.β)\n    2*Vhx/(Vxx-Vhh)\nend\n# This one has wrong ordering of modes for theta>pi/4\ntheta_alt(u::FieldType, p) = atan(tan2theta(u,p))/2"
      ],
      "metadata": {},
      "execution_count": null
    },
    {
      "cell_type": "markdown",
      "source": [
        "This version is good for all angles — though it \"exchanges\" the light and heavy modes in strong tachyonic regime"
      ],
      "metadata": {}
    },
    {
      "outputs": [],
      "cell_type": "code",
      "source": [
        "\"Return Higgs-scalaron mixing for the mode diagonalization\"\nfunction theta(u::FieldType, p)\n    dh, dx, h, x = u\n    Vhh = sym.fVhh(h,x,p.λ,p.ξ,p.β)\n    Vxx = sym.fVxx(h,x,p.λ,p.ξ,p.β)\n    Vhx = sym.fVhx(h,x,p.λ,p.ξ,p.β)\n    atan((Vhh-Vxx-sqrt((Vhh-Vxx)^2+4*Vhx^2))/2/Vhx)\nend\ntheta(bgsol::ODESolution, t) = theta(bgsol(t), bgsol.prob.p)\n\n\nfunction thetadot(u::FieldType, p)\n    dh, dx, h, x = u\n    Vhh = sym.fVhh(h,x,p.λ,p.ξ,p.β)\n    Vxx = sym.fVxx(h,x,p.λ,p.ξ,p.β)\n    Vhx = sym.fVhx(h,x,p.λ,p.ξ,p.β)\n    Vxxx = sym.fVxxx(h,x,p.λ,p.ξ,p.β)\n    Vhxx = sym.fVhxx(h,x,p.λ,p.ξ,p.β)\n    Vhhx = sym.fVhhx(h,x,p.λ,p.ξ,p.β)\n    Vhhh = sym.fVhhh(h,x,p.λ,p.ξ,p.β)\n    den = (Vxx-Vhh)^2+4*Vhx^2\n    ((Vxx-Vhh)*Vhxx-Vhx*(Vxxx-Vhhx))*dx+((Vxx-Vhh)*Vhhx-Vhx*(Vhxx-Vhhh))*dh\nend\nthetadot(bgsol::ODESolution,t) = thetadot(bgsol(t), bgsol.prob.p)"
      ],
      "metadata": {},
      "execution_count": null
    },
    {
      "cell_type": "markdown",
      "source": [
        "The light and heavy masses. Note, that in tachyonic region the negative mode is called light, though it has the higher amplitude."
      ],
      "metadata": {}
    },
    {
      "outputs": [],
      "cell_type": "code",
      "source": [
        "function ml2(u::FieldType, p)\n    dh, dx, h, x = u\n    Vhh = sym.fVhh(h,x,p.λ,p.ξ,p.β)\n    Vxx = sym.fVxx(h,x,p.λ,p.ξ,p.β)\n    Vhx = sym.fVhx(h,x,p.λ,p.ξ,p.β)\n    A = Vhh # - dx^2/6\n    B = Vxx\n    C = Vhx\n    (A+B-sqrt((A-B)^2+4*C^2))/2\n#    ( 1/2 * ( (Vhh - dx^2/6) + Vxx )\n#          * (1 - sqrt(1 - 4*((Vxx*(Vhh - dx^2/6) - Vhx^2)/(Vhh - dx^2/6 + Vxx)^2))  ) )\nend\nml2(bgsol::ODESolution,t) = ml2(bgsol(t), bgsol.prob.p)\nwl2(sol::ODESolution,t,k) = ml2(sol,t).+(k./abg(sol,t)).^2"
      ],
      "metadata": {},
      "execution_count": null
    },
    {
      "outputs": [],
      "cell_type": "code",
      "source": [
        "function mh2(u, p)\n    dh, dx, h, x = u\n    Vhh = sym.fVhh(h,x,p.λ,p.ξ,p.β)\n    Vxx = sym.fVxx(h,x,p.λ,p.ξ,p.β)\n    Vhx = sym.fVhx(h,x,p.λ,p.ξ,p.β)\n    A = Vhh # - dx^2/6\n    B = Vxx\n    C = Vhx\n    (A+B+sqrt((A-B)^2+4*C^2))/2\n#    ( 1/2*((Vhh - dx^2/6) + Vxx)\n#         *(1 + sqrt(1 - 4*((Vxx*(Vhh - dx^2/6) - Vhx^2)\n#                           /(Vhh - dx^2/6 + Vxx)^2))) )\nend\nmh2(bgsol::ODESolution, t) = mh2(bgsol(t), bgsol.prob.p)\nwh2(sol::ODESolution,t,k) = mh2(sol,t).+(k./abg(sol,t)).^2"
      ],
      "metadata": {},
      "execution_count": null
    },
    {
      "outputs": [],
      "cell_type": "code",
      "source": [
        "function mh2swapped(u::FieldType, p)\n    dh, dx, h, x = u\n    Vhh = sym.fVhh(h,x,p.λ,p.ξ,p.β)\n    Vxx = sym.fVxx(h,x,p.λ,p.ξ,p.β)\n    Vhx = sym.fVhx(h,x,p.λ,p.ξ,p.β)\n    A = Vhh # - dx^2/6\n    B = Vxx\n    C = Vhx\n    if abs(Vhh-Vxx-sqrt((Vhh-Vxx)^2+4*Vhx^2)) > abs(2*Vhx)\n        (A+B-sqrt((A-B)^2+4*C^2))/2\n    else\n        (A+B+sqrt((A-B)^2+4*C^2))/2\n    end\nend\nmh2swapped(bgsol::ODESolution, t) = mh2swapped(bgsol(t), bgsol.prob.p)\nwh2swapped(bgsol::ODESolution,t,k) = mh2swapped(bgsol,t).+(k/abg(bgsol,t)).^2"
      ],
      "metadata": {},
      "execution_count": null
    },
    {
      "cell_type": "markdown",
      "source": [
        "W boson masses translated from Anja\n\nWarning: the expression for $m_{W_L}$ is correct only for relatively large $k/a\\gg m_T$?"
      ],
      "metadata": {}
    },
    {
      "outputs": [],
      "cell_type": "code",
      "source": [
        "mwt2(u::FieldType,p) = (p.g*sqrt(6)/2*sinh(u[3]/sqrt(6)))^2\nmwt2(bgsol::ODESolution, t) = mwt2(bgsol(t), bgsol.prob.p)\nwwt2(sol::ODESolution,t,k) = mwt2(sol,t).+(k./abg(sol,t)).^2\n\nmw2(u, p) = begin\n    dh, dx, h, x = u\n    V = sym.fV(h,x,p.λ,p.ξ,p.β)\n    Vh = sym.fVh(h,x,p.λ,p.ξ,p.β)\n    (p.g^2*3/2*sinh(h/sqrt(6))^2 + Vh/tanh(h/sqrt(6))/sqrt(6) - 4*V/6)\nend\nmw2(bgsol::ODESolution,t) = mw2(bgsol(t), bgsol.prob.p)\nww2(u::FieldType, p, k) = begin\n    dh, dx, h, x, la = u\n    V = sym.fV(h,x,p.λ,p.ξ,p.β)\n    Vh = sym.fVh(h,x,p.λ,p.ξ,p.β)\n    (k./exp(la)).^2 .+ ( p.g^2*3/2*sinh(h/sqrt(6))^2 + Vh/tanh(h/sqrt(6))/sqrt(6) - 4*V/6 )\nend    \nww2(sol::ODESolution,t,k) = mw2(sol,t).+(k./abg(sol,t)).^2\n\nww2not(sol::ODESolution,t,k) = mw2(sol,t).-mwt2(sol,t).+(k./abg(sol,t)).^2\n\nww2exact(u::FieldType, p, k) = begin\n    dh, dx, h, x, la = u\n    a = exp(la)\n    V = sym.fV(h,x,p.λ,p.ξ,p.β)\n    Vh = sym.fVh(h,x,p.λ,p.ξ,p.β)\n    H = 0 # sym.fH(dh, dx, h, x, p.λ,p.ξ,p.β)\n    mt = p.g*sqrt(6)/2*sinh(h/sqrt(6))\n    mt2 = mt^2\n    dotmt = p.g/2*cosh(h/sqrt(6))*dh\n    ( (k/a).^2 .+ mt2\n        .+ (k.^2)./((k.^2).+a^2*mt2).*(\n            Vh/tanh(h/sqrt(6))/sqrt(6) - 4*V/6\n            .+ (3*(dotmt+H*mt)^2)./(((k/a).^2) .+ mt2)\n        )\n    )\nend    \nww2exact(sol::ODESolution,t,k) = ww2exact(sol(t), sol.prob.p, k)"
      ],
      "metadata": {},
      "execution_count": null
    },
    {
      "cell_type": "markdown",
      "source": [
        "Interesting observation -- seems the dip in the heavy mode depends on the initial conditions quite a lot (Change X0 between 0.5 and sqrt(6))\n#' \n## Mode evolution\n#' \nLet us make the rescaling of the perturbations as $\\phi\\to\\phi/a^{3/2}$.  Then there are no friction hubble terms, see http://arxiv.org/abs/arXiv:0812.3622\n\nThe neglected term in the mass is $\\Delta=-\\frac{3}{4}(\\frac{\\dot{a}}{a})^2-\\frac{3}{2}\\frac{\\ddot{a}}{a}=\\frac{3}{4}p$\n\nSign of rotation $\\theta$ can be easily checked by changing it -- then both light and heavy modes oscillate a lot during the initial period before the first zero crossing.  So, the current choice is correct."
      ],
      "metadata": {}
    },
    {
      "outputs": [],
      "cell_type": "code",
      "source": [
        "\"\"\"\n    \"Exact\" perturbation equations.  Hubble terms are neglected.\n\"\"\"\nfunction perteqns_exact(du,u,par,t)\n    kk, bgsol = par\n    p = bgsol.prob.p\n    ubg = bgsol(t)\n    dh,dx,h,x,la = ubg\n    a = exp(la)\n    eqhh = sym.feqnδhh(dh,dx,h,x,p.λ,p.ξ,p.β)\n    eqhx = sym.feqnδhx(dh,dx,h,x,p.λ,p.ξ,p.β)\n    eqxh = sym.feqnδxh(dh,dx,h,x,p.λ,p.ξ,p.β)\n    eqxx = sym.feqnδxx(dh,dx,h,x,p.λ,p.ξ,p.β)\n    Δ = 0 # 3/4*pbg(ubg, p)\n    V = sym.fV(h,x,p.λ,p.ξ,p.β)\n    Vh = sym.fVh(h,x,p.λ,p.ξ,p.β)\n    H = 0 # sym.fH(dh, dx, h, x, p.λ,p.ξ,p.β)\n    mt = p.g*sqrt(6)/2*sinh(h/sqrt(6))\n    mt2 = mt^2\n    dotmt = p.g/2*cosh(h/sqrt(6))*dh    \n    for i in eachindex(kk)\n        bi = (i-1)*6\n        k = kk[i]\n        dδh,dδx,δh,δx,dw,w = u[bi+1:bi+6]\n        du[bi+1] = eqhh*δh+eqhx*δx-((k/a)^2+Δ)*δh\n        du[bi+2] = eqxh*δh+eqxx*δx-((k/a)^2+Δ)*δx\n        du[bi+3] = dδh\n        du[bi+4] = dδx\n        ww2 = ( (k/a)^2 + mt2\n                + (k^2)/((k^2)+a^2*mt2)*(\n                    Vh/tanh(h/sqrt(6))/sqrt(6) - 4*V/6\n                    + (3*(dotmt+H*mt)^2)/((k/a)^2+mt2)\n                )\n        )\n        du[bi+5] = -ww2*w\n        du[bi+6] = dw\n    end\n    nothing\nend\n\n\n\"\"\"\n    \"k/a>>m_T\" perturbation equations.  Hubble terms are neglected.\n\"\"\"\nfunction perteqns(du,u,par,t)\n    kk, bgsol = par\n    p = bgsol.prob.p\n    ubg = bgsol(t)\n    dh,dx,h,x,la = ubg\n    a = exp(la)\n    mmw2 = mw2(ubg,p)\n    eqhh = sym.feqnδhh(dh,dx,h,x,p.λ,p.ξ,p.β)\n    eqhx = sym.feqnδhx(dh,dx,h,x,p.λ,p.ξ,p.β)\n    eqxh = sym.feqnδxh(dh,dx,h,x,p.λ,p.ξ,p.β)\n    eqxx = sym.feqnδxx(dh,dx,h,x,p.λ,p.ξ,p.β)\n    Δ = 0 # 3/4*pbg(ubg, p)\n    for i in eachindex(kk)\n        bi = (i-1)*6\n        k = kk[i]\n        dδh,dδx,δh,δx,dw,w = u[bi+1:bi+6]\n        du[bi+1] = eqhh*δh+eqhx*δx-((k/a)^2+Δ)*δh\n        du[bi+2] = eqxh*δh+eqxx*δx-((k/a)^2+Δ)*δx\n        du[bi+3] = dδh\n        du[bi+4] = dδx\n        du[bi+5] = -(mmw2+(k/a)^2+Δ)*w\n        du[bi+6] = dw\n    end\n    nothing\nend"
      ],
      "metadata": {},
      "execution_count": null
    },
    {
      "cell_type": "markdown",
      "source": [
        "Vacuum initial conditions"
      ],
      "metadata": {}
    },
    {
      "outputs": [],
      "cell_type": "code",
      "source": [
        "function pertu_in(pertp0, t; exact=true)\n    kk, bgsol = pertp0\n    p0 = bgsol.prob.p\n    u0 = bgsol(t)\n    dh,dx,h,x,la = u0\n    a = exp(la)\n    θ = theta(u0, p0)\n    s = sin(θ)\n    c = cos(θ)\n    Δ = 0 # 3/4*pbg(ubg, p)\n    V = fV(u0,p0)\n    Vh = sym.fVh(h,x,p0.λ,p0.ξ,p0.β)\n    H = 0 # sym.fH(dh, dx, h, x, p.λ,p.ξ,p.β)\n    mt = p0.g*sqrt(6)/2*sinh(h/sqrt(6))\n    mt2 = mt^2\n    dotmt = p0.g/2*cosh(h/sqrt(6))*dh                        \n    uu = zeros(ComplexF64, 6*length(kk))\n    for i in eachindex(kk)\n        bi = (i-1)*6\n        k = kk[i]\n        wh = sqrt(mh2(u0,p0)+(k/a)^2)\n        wl = sqrt(ml2(u0,p0)+(k/a)^2)\n        if exact\n            ww2 = ( (k/a)^2 + mt2\n                    + (k^2)/((k^2)+a^2*mt2)*(\n                        Vh/tanh(h/sqrt(6))/sqrt(6) - 4*V/6\n                        + (3*(dotmt+H*mt)^2)/((k/a)^2+mt2)\n                    )\n                )\n        else\n            ww2 = mw2(u0,p0)+(k/a)^2\n        end\n        wwl = sqrt(ww2)\n        fh = 1/sqrt(2*wh)\n        fl = 1/sqrt(2*wl)\n        dfh = -im*sqrt(wh/2)\n        dfl = -im*sqrt(wl/2)\n        uu[bi+1] = c*dfh+s*dfl\n        uu[bi+2] = -s*dfh+c*dfl\n        uu[bi+3] = c*fh+s*fl\n        uu[bi+4] = -s*fh+c*fl\n        uu[bi+5] = -im*sqrt(wwl/2)\n        uu[bi+6] = 1/sqrt(2*wwl)\n    end\n    uu\nend"
      ],
      "metadata": {},
      "execution_count": null
    },
    {
      "cell_type": "markdown",
      "source": [
        "Expand in modes as $[\\beta_h,\\alpha_h,\\beta_l,\\alpha_l,\\beta_W,\\alpha_W]$, with the converntion that $n_k=|\\beta|^2$\n\nThe choice of phase for negative frequencies is surely wrong!"
      ],
      "metadata": {}
    },
    {
      "outputs": [],
      "cell_type": "code",
      "source": [
        "function outmodes(pertsol, t; exact=false)\n    kk, bgsol = pertsol.prob.p\n    p0 = bgsol.prob.p\n    u0 = bgsol(t)\n    dh,dx,h,x,la = u0\n    a = exp(u0[5])\n    θ = theta(u0, p0)\n    dθ = thetadot(u0, p0)\n    s = sin(θ)\n    c = cos(θ)\n    mmh2 = mh2(u0,p0)\n    mml2 = ml2(u0,p0)\n    mmw2 = mw2(u0,p0)\n    pu = pertsol(t)\n    modes = zeros(ComplexF64,8*length(kk))\n    V = sym.fV(h,x,p0.λ,p0.ξ,p0.β)\n    Vh = sym.fVh(h,x,p0.λ,p0.ξ,p0.β)\n    mt = p0.g*sqrt(6)/2*sinh(h/sqrt(6))\n    mt2 = mt^2\n    H = 0\n    dotmt = p0.g/2*cosh(h/sqrt(6))*dh    \n    for i in eachindex(kk)\n        k = kk[i]\n        bi = (i-1)*6\n        wh = sqrt(abs(mmh2+(k/a)^2))\n        wl = sqrt(abs(mml2+(k/a)^2))\n        if exact\n            ww2 = ( (k/a)^2 + mt2\n                + (k^2)/((k^2)+a^2*mt2)*(\n                    Vh/tanh(h/sqrt(6))/sqrt(6) - 4*V/6\n                    + (3*(dotmt+H*mt)^2)/((k/a)^2+mt2)\n                )\n            )\n            wwl = sqrt(abs(ww2))\n        else\n            wwl = sqrt(abs(mmw2+(k/a)^2))\n        end\n        phiH =  c*pu[bi+3]-s*pu[bi+4]\n        phiL =  s*pu[bi+3]+c*pu[bi+4]\n        dphiH = c*pu[bi+1]-s*pu[bi+2]-phiL*dθ\n        dphiL = s*pu[bi+1]+c*pu[bi+2]+phiH*dθ\n        modes[bi+1:bi+6] .= [\n            (wh*phiH-im*dphiH)/sqrt(2*wh), (wh*phiH+im*dphiH)/sqrt(2*wh),\n            (wl*phiL-im*dphiL)/sqrt(2*wl), (wl*phiL+im*dphiL)/sqrt(2*wl),\n            (wwl*pu[bi+6]-im*pu[bi+5])/sqrt(2*wwl), (wwl*pu[bi+6]+im*pu[bi+5])/sqrt(2*wwl)\n                            ]\n    end\n    modes\nend"
      ],
      "metadata": {},
      "execution_count": null
    },
    {
      "outputs": [],
      "cell_type": "code",
      "source": [
        "nH(sol,t) = abs2.(outmodes(sol,t)[1:6:end])\nnH(sol,t,ki) = abs2(outmodes(sol,t)[1+(ki-1)*6])\nnHbar(sol,t) = abs2.(outmodes(sol,t)[2:6:end])\nnHbar(sol,t,ki) = abs2(outmodes(sol,t)[2+(ki-1)*6])\nnL(sol,t) = abs2.(outmodes(sol,t)[3:6:end])\nnL(sol,t,ki) = abs2(outmodes(sol,t)[3+(ki-1)*6])\nnLbar(sol,t) = abs2.(outmodes(sol,t)[4:6:end])\nnLbar(sol,t,ki) = abs2(outmodes(sol,t)[4+(ki-1)*6])\nnwl(sol,t) = abs2.(outmodes(sol,t)[5:6:end])\nnwl(sol,t,ki) = abs2(outmodes(sol,t)[5+(ki-1)*6])\nnwlbar(sol,t) = abs2.(outmodes(sol,t)[6:6:end])\nnwlbar(sol,t,ki) = abs2(outmodes(sol,t)[6+(ki-1)*6])\nnwlexact(sol,t) = abs2.(outmodes(sol,t,exact=true)[5:6:end])\nnwlexact(sol,t,ki) = abs2(outmodes(sol,t,exact=true)[5+(ki-1)*6])\nnwlbarexact(sol,t) = abs2.(outmodes(sol,t,exact=true)[6:6:end])\nnwlbarexact(sol,t,ki) = abs2(outmodes(sol,t,exact=true)[6+(ki-1)*6])\n\n\n\"Get konformal momenta from the current solution\"\nkk(sol)=sol.prob.p[1]\nkk(sol,i)=sol.prob.p[1][i]"
      ],
      "metadata": {},
      "execution_count": null
    },
    {
      "outputs": [],
      "cell_type": "code",
      "source": [
        "# Convenience functions for current solution\nwh2bg(t,ni)=wh2(bgsol,t,kk(sol,ni))\nwl2bg(t,ni)=wl2(bgsol,t,kk(sol,ni))\nww2bg(t,ni)=ww2(bgsol,t,kk(sol,ni))\nwwt2bg(t,ni)=wwt2(bgsol,t,kk(sol,ni))\nww2notbg(t,ni)=ww2not(bgsol,t,kk(sol,ni))\nww2exact(t,ni)=ww2exact(bgsol,t,kk(sol,ni))"
      ],
      "metadata": {},
      "execution_count": null
    },
    {
      "outputs": [],
      "cell_type": "code",
      "source": [
        "function rhow(sol,t; exact=false)\n    rhow = 0\n    modes = outmodes(sol,t, exact=exact)\n    bgsol = sol.prob.p[2]\n    k = kk(sol)\n    if exact\n        w2 = ww2exact(bgsol, t, k)\n    else\n        w2 = ww2(bgsol, t, k)\n    end\n    for i=1:length(kk(sol))\n        rhow += abs2(modes[5+6*(i-1)])*sqrt(abs(w2[i]))*4*pi*k[i]^2/(2*pi*abg(bgsol,t))^3 \n    end\n    rhow*(k[2]-k[1])\nend"
      ],
      "metadata": {},
      "execution_count": null
    },
    {
      "outputs": [],
      "cell_type": "code",
      "source": [
        "function rhoh(sol,t)\n    rho = 0\n    modes = outmodes(sol,t)\n    bgsol = sol.prob.p[2]\n    k = kk(sol)\n    w2 = wh2(bgsol, t, k)\n    for i=1:length(kk(sol))\n        rho += abs2(modes[1+6*(i-1)])*sqrt(abs(w2[i]))*4*pi*k[i]^2/(2*pi*abg(bgsol,t))^3 \n    end\n    rho*(k[2]-k[1])\nend;"
      ],
      "metadata": {},
      "execution_count": null
    }
  ],
  "nbformat_minor": 2,
  "metadata": {
    "language_info": {
      "file_extension": ".jl",
      "mimetype": "application/julia",
      "name": "julia",
      "version": "1.4.2"
    },
    "kernelspec": {
      "name": "julia-1.4",
      "display_name": "Julia 1.4.2",
      "language": "julia"
    }
  },
  "nbformat": 4
}
